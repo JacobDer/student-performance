{
 "cells": [
  {
   "cell_type": "markdown",
   "metadata": {},
   "source": [
    "# Student Performance Prediction\n",
    "\n",
    "## Objective\n",
    "As one might expect from the title of the notebook, our objective here is to predict student performance given some data on the students."
   ]
  },
  {
   "cell_type": "markdown",
   "metadata": {},
   "source": [
    "## Packages"
   ]
  },
  {
   "cell_type": "code",
   "execution_count": 1,
   "metadata": {},
   "outputs": [],
   "source": [
    "import pandas as pd\n",
    "import numpy as np\n",
    "import seaborn as sns\n",
    "import matplotlib.pyplot as plt\n",
    "from sklearn.ensemble import RandomForestClassifier\n",
    "from sklearn.feature_selection import chi2\n",
    "from sklearn.model_selection import train_test_split, GridSearchCV\n",
    "from sklearn.metrics import confusion_matrix, classification_report\n",
    "\n",
    "# Seaborn settings\n",
    "sns.set()\n",
    "palette='Set1'\n",
    "sns.set_palette(palette=palette)\n",
    "palette = sns.color_palette(palette=palette)"
   ]
  },
  {
   "cell_type": "markdown",
   "metadata": {},
   "source": [
    "## Preprocessing\n",
    "As a first step, the data about the students needs to be encoded in a way that is more usable by computers. Most of the data is already binary, and for those columns that are not we'll choose a strategy to binarize them... For now... This simplification could prove to be a bad idea, but let's try it out.\n",
    "\n",
    "Let's rename the columns so that they are easier to use, and make a copy of the original dataframe in case we need it."
   ]
  },
  {
   "cell_type": "code",
   "execution_count": 2,
   "metadata": {},
   "outputs": [
    {
     "data": {
      "text/html": [
       "<div>\n",
       "<style scoped>\n",
       "    .dataframe tbody tr th:only-of-type {\n",
       "        vertical-align: middle;\n",
       "    }\n",
       "\n",
       "    .dataframe tbody tr th {\n",
       "        vertical-align: top;\n",
       "    }\n",
       "\n",
       "    .dataframe thead th {\n",
       "        text-align: right;\n",
       "    }\n",
       "</style>\n",
       "<table border=\"1\" class=\"dataframe\">\n",
       "  <thead>\n",
       "    <tr style=\"text-align: right;\">\n",
       "      <th></th>\n",
       "      <th>gender</th>\n",
       "      <th>race</th>\n",
       "      <th>parent_education</th>\n",
       "      <th>lunch</th>\n",
       "      <th>test_prep</th>\n",
       "      <th>math</th>\n",
       "      <th>reading</th>\n",
       "      <th>writing</th>\n",
       "    </tr>\n",
       "  </thead>\n",
       "  <tbody>\n",
       "    <tr>\n",
       "      <th>0</th>\n",
       "      <td>female</td>\n",
       "      <td>group B</td>\n",
       "      <td>bachelor's degree</td>\n",
       "      <td>standard</td>\n",
       "      <td>none</td>\n",
       "      <td>72</td>\n",
       "      <td>72</td>\n",
       "      <td>74</td>\n",
       "    </tr>\n",
       "    <tr>\n",
       "      <th>1</th>\n",
       "      <td>female</td>\n",
       "      <td>group C</td>\n",
       "      <td>some college</td>\n",
       "      <td>standard</td>\n",
       "      <td>completed</td>\n",
       "      <td>69</td>\n",
       "      <td>90</td>\n",
       "      <td>88</td>\n",
       "    </tr>\n",
       "    <tr>\n",
       "      <th>2</th>\n",
       "      <td>female</td>\n",
       "      <td>group B</td>\n",
       "      <td>master's degree</td>\n",
       "      <td>standard</td>\n",
       "      <td>none</td>\n",
       "      <td>90</td>\n",
       "      <td>95</td>\n",
       "      <td>93</td>\n",
       "    </tr>\n",
       "    <tr>\n",
       "      <th>3</th>\n",
       "      <td>male</td>\n",
       "      <td>group A</td>\n",
       "      <td>associate's degree</td>\n",
       "      <td>free/reduced</td>\n",
       "      <td>none</td>\n",
       "      <td>47</td>\n",
       "      <td>57</td>\n",
       "      <td>44</td>\n",
       "    </tr>\n",
       "    <tr>\n",
       "      <th>4</th>\n",
       "      <td>male</td>\n",
       "      <td>group C</td>\n",
       "      <td>some college</td>\n",
       "      <td>standard</td>\n",
       "      <td>none</td>\n",
       "      <td>76</td>\n",
       "      <td>78</td>\n",
       "      <td>75</td>\n",
       "    </tr>\n",
       "  </tbody>\n",
       "</table>\n",
       "</div>"
      ],
      "text/plain": [
       "   gender     race    parent_education         lunch  test_prep  math  \\\n",
       "0  female  group B   bachelor's degree      standard       none    72   \n",
       "1  female  group C        some college      standard  completed    69   \n",
       "2  female  group B     master's degree      standard       none    90   \n",
       "3    male  group A  associate's degree  free/reduced       none    47   \n",
       "4    male  group C        some college      standard       none    76   \n",
       "\n",
       "   reading  writing  \n",
       "0       72       74  \n",
       "1       90       88  \n",
       "2       95       93  \n",
       "3       57       44  \n",
       "4       78       75  "
      ]
     },
     "execution_count": 2,
     "metadata": {},
     "output_type": "execute_result"
    }
   ],
   "source": [
    "df = pd.read_csv(\"/Users/jacobder/Documents/data/StudentsPerformance.csv\")\n",
    "df = df.rename(\n",
    "        columns={\n",
    "            'race/ethnicity': 'race',\n",
    "            'parental level of education': 'parent_education',\n",
    "            'test preparation course': 'test_prep',\n",
    "            'math score': 'math',\n",
    "            'reading score': 'reading',\n",
    "            'writing score': 'writing'\n",
    "        }\n",
    "    )\n",
    "\n",
    "df_copy = df.copy()\n",
    "df.head()"
   ]
  },
  {
   "cell_type": "markdown",
   "metadata": {},
   "source": [
    "### Encoding Gender\n",
    "This is binary (the data, not identification), so we'll just assign labels **1** to females and **0** to males. "
   ]
  },
  {
   "cell_type": "code",
   "execution_count": 3,
   "metadata": {},
   "outputs": [
    {
     "data": {
      "text/html": [
       "<div>\n",
       "<style scoped>\n",
       "    .dataframe tbody tr th:only-of-type {\n",
       "        vertical-align: middle;\n",
       "    }\n",
       "\n",
       "    .dataframe tbody tr th {\n",
       "        vertical-align: top;\n",
       "    }\n",
       "\n",
       "    .dataframe thead th {\n",
       "        text-align: right;\n",
       "    }\n",
       "</style>\n",
       "<table border=\"1\" class=\"dataframe\">\n",
       "  <thead>\n",
       "    <tr style=\"text-align: right;\">\n",
       "      <th></th>\n",
       "      <th>gender</th>\n",
       "      <th>race</th>\n",
       "      <th>parent_education</th>\n",
       "      <th>lunch</th>\n",
       "      <th>test_prep</th>\n",
       "      <th>math</th>\n",
       "      <th>reading</th>\n",
       "      <th>writing</th>\n",
       "    </tr>\n",
       "  </thead>\n",
       "  <tbody>\n",
       "    <tr>\n",
       "      <th>0</th>\n",
       "      <td>1</td>\n",
       "      <td>group B</td>\n",
       "      <td>bachelor's degree</td>\n",
       "      <td>standard</td>\n",
       "      <td>none</td>\n",
       "      <td>72</td>\n",
       "      <td>72</td>\n",
       "      <td>74</td>\n",
       "    </tr>\n",
       "    <tr>\n",
       "      <th>1</th>\n",
       "      <td>1</td>\n",
       "      <td>group C</td>\n",
       "      <td>some college</td>\n",
       "      <td>standard</td>\n",
       "      <td>completed</td>\n",
       "      <td>69</td>\n",
       "      <td>90</td>\n",
       "      <td>88</td>\n",
       "    </tr>\n",
       "    <tr>\n",
       "      <th>2</th>\n",
       "      <td>1</td>\n",
       "      <td>group B</td>\n",
       "      <td>master's degree</td>\n",
       "      <td>standard</td>\n",
       "      <td>none</td>\n",
       "      <td>90</td>\n",
       "      <td>95</td>\n",
       "      <td>93</td>\n",
       "    </tr>\n",
       "    <tr>\n",
       "      <th>3</th>\n",
       "      <td>0</td>\n",
       "      <td>group A</td>\n",
       "      <td>associate's degree</td>\n",
       "      <td>free/reduced</td>\n",
       "      <td>none</td>\n",
       "      <td>47</td>\n",
       "      <td>57</td>\n",
       "      <td>44</td>\n",
       "    </tr>\n",
       "    <tr>\n",
       "      <th>4</th>\n",
       "      <td>0</td>\n",
       "      <td>group C</td>\n",
       "      <td>some college</td>\n",
       "      <td>standard</td>\n",
       "      <td>none</td>\n",
       "      <td>76</td>\n",
       "      <td>78</td>\n",
       "      <td>75</td>\n",
       "    </tr>\n",
       "  </tbody>\n",
       "</table>\n",
       "</div>"
      ],
      "text/plain": [
       "   gender     race    parent_education         lunch  test_prep  math  \\\n",
       "0       1  group B   bachelor's degree      standard       none    72   \n",
       "1       1  group C        some college      standard  completed    69   \n",
       "2       1  group B     master's degree      standard       none    90   \n",
       "3       0  group A  associate's degree  free/reduced       none    47   \n",
       "4       0  group C        some college      standard       none    76   \n",
       "\n",
       "   reading  writing  \n",
       "0       72       74  \n",
       "1       90       88  \n",
       "2       95       93  \n",
       "3       57       44  \n",
       "4       78       75  "
      ]
     },
     "execution_count": 3,
     "metadata": {},
     "output_type": "execute_result"
    }
   ],
   "source": [
    "def gender_label(gender):\n",
    "    if gender == 'female':\n",
    "        return 1\n",
    "    else:\n",
    "        return 0\n",
    "    \n",
    "    \n",
    "df['gender'] = df['gender'].apply(gender_label)\n",
    "\n",
    "df.head()"
   ]
  },
  {
   "cell_type": "markdown",
   "metadata": {},
   "source": [
    "### Encoding Parental Education Level\n",
    "To binarize this data, we'll choose a threshold on minimum education. For our purposes, we'll assign label **1** to parents who got any sort of degree from a college and label **0** to people who did not."
   ]
  },
  {
   "cell_type": "code",
   "execution_count": 4,
   "metadata": {},
   "outputs": [
    {
     "data": {
      "text/html": [
       "<div>\n",
       "<style scoped>\n",
       "    .dataframe tbody tr th:only-of-type {\n",
       "        vertical-align: middle;\n",
       "    }\n",
       "\n",
       "    .dataframe tbody tr th {\n",
       "        vertical-align: top;\n",
       "    }\n",
       "\n",
       "    .dataframe thead th {\n",
       "        text-align: right;\n",
       "    }\n",
       "</style>\n",
       "<table border=\"1\" class=\"dataframe\">\n",
       "  <thead>\n",
       "    <tr style=\"text-align: right;\">\n",
       "      <th></th>\n",
       "      <th>gender</th>\n",
       "      <th>race</th>\n",
       "      <th>parent_education</th>\n",
       "      <th>lunch</th>\n",
       "      <th>test_prep</th>\n",
       "      <th>math</th>\n",
       "      <th>reading</th>\n",
       "      <th>writing</th>\n",
       "    </tr>\n",
       "  </thead>\n",
       "  <tbody>\n",
       "    <tr>\n",
       "      <th>0</th>\n",
       "      <td>1</td>\n",
       "      <td>group B</td>\n",
       "      <td>1</td>\n",
       "      <td>standard</td>\n",
       "      <td>none</td>\n",
       "      <td>72</td>\n",
       "      <td>72</td>\n",
       "      <td>74</td>\n",
       "    </tr>\n",
       "    <tr>\n",
       "      <th>1</th>\n",
       "      <td>1</td>\n",
       "      <td>group C</td>\n",
       "      <td>0</td>\n",
       "      <td>standard</td>\n",
       "      <td>completed</td>\n",
       "      <td>69</td>\n",
       "      <td>90</td>\n",
       "      <td>88</td>\n",
       "    </tr>\n",
       "    <tr>\n",
       "      <th>2</th>\n",
       "      <td>1</td>\n",
       "      <td>group B</td>\n",
       "      <td>1</td>\n",
       "      <td>standard</td>\n",
       "      <td>none</td>\n",
       "      <td>90</td>\n",
       "      <td>95</td>\n",
       "      <td>93</td>\n",
       "    </tr>\n",
       "    <tr>\n",
       "      <th>3</th>\n",
       "      <td>0</td>\n",
       "      <td>group A</td>\n",
       "      <td>1</td>\n",
       "      <td>free/reduced</td>\n",
       "      <td>none</td>\n",
       "      <td>47</td>\n",
       "      <td>57</td>\n",
       "      <td>44</td>\n",
       "    </tr>\n",
       "    <tr>\n",
       "      <th>4</th>\n",
       "      <td>0</td>\n",
       "      <td>group C</td>\n",
       "      <td>0</td>\n",
       "      <td>standard</td>\n",
       "      <td>none</td>\n",
       "      <td>76</td>\n",
       "      <td>78</td>\n",
       "      <td>75</td>\n",
       "    </tr>\n",
       "  </tbody>\n",
       "</table>\n",
       "</div>"
      ],
      "text/plain": [
       "   gender     race  parent_education         lunch  test_prep  math  reading  \\\n",
       "0       1  group B                 1      standard       none    72       72   \n",
       "1       1  group C                 0      standard  completed    69       90   \n",
       "2       1  group B                 1      standard       none    90       95   \n",
       "3       0  group A                 1  free/reduced       none    47       57   \n",
       "4       0  group C                 0      standard       none    76       78   \n",
       "\n",
       "   writing  \n",
       "0       74  \n",
       "1       88  \n",
       "2       93  \n",
       "3       44  \n",
       "4       75  "
      ]
     },
     "execution_count": 4,
     "metadata": {},
     "output_type": "execute_result"
    }
   ],
   "source": [
    "def parent_education(edu):\n",
    "    educations = [\"associate's degree\", \"bachelor's degree\", \"master's degree\"]\n",
    "    if edu in educations:\n",
    "        return 1\n",
    "    else:\n",
    "        return 0\n",
    "    \n",
    "\n",
    "df['parent_education'] = df['parent_education'].apply(parent_education)\n",
    "\n",
    "df.head()"
   ]
  },
  {
   "cell_type": "markdown",
   "metadata": {},
   "source": [
    "### Encoding Lunch Type\n",
    "This data is binary, so we'll assign label **1** to standard lunch types and label **0** to free/reduced lunch types."
   ]
  },
  {
   "cell_type": "code",
   "execution_count": 5,
   "metadata": {},
   "outputs": [
    {
     "data": {
      "text/html": [
       "<div>\n",
       "<style scoped>\n",
       "    .dataframe tbody tr th:only-of-type {\n",
       "        vertical-align: middle;\n",
       "    }\n",
       "\n",
       "    .dataframe tbody tr th {\n",
       "        vertical-align: top;\n",
       "    }\n",
       "\n",
       "    .dataframe thead th {\n",
       "        text-align: right;\n",
       "    }\n",
       "</style>\n",
       "<table border=\"1\" class=\"dataframe\">\n",
       "  <thead>\n",
       "    <tr style=\"text-align: right;\">\n",
       "      <th></th>\n",
       "      <th>gender</th>\n",
       "      <th>race</th>\n",
       "      <th>parent_education</th>\n",
       "      <th>lunch</th>\n",
       "      <th>test_prep</th>\n",
       "      <th>math</th>\n",
       "      <th>reading</th>\n",
       "      <th>writing</th>\n",
       "    </tr>\n",
       "  </thead>\n",
       "  <tbody>\n",
       "    <tr>\n",
       "      <th>0</th>\n",
       "      <td>1</td>\n",
       "      <td>group B</td>\n",
       "      <td>1</td>\n",
       "      <td>1</td>\n",
       "      <td>none</td>\n",
       "      <td>72</td>\n",
       "      <td>72</td>\n",
       "      <td>74</td>\n",
       "    </tr>\n",
       "    <tr>\n",
       "      <th>1</th>\n",
       "      <td>1</td>\n",
       "      <td>group C</td>\n",
       "      <td>0</td>\n",
       "      <td>1</td>\n",
       "      <td>completed</td>\n",
       "      <td>69</td>\n",
       "      <td>90</td>\n",
       "      <td>88</td>\n",
       "    </tr>\n",
       "    <tr>\n",
       "      <th>2</th>\n",
       "      <td>1</td>\n",
       "      <td>group B</td>\n",
       "      <td>1</td>\n",
       "      <td>1</td>\n",
       "      <td>none</td>\n",
       "      <td>90</td>\n",
       "      <td>95</td>\n",
       "      <td>93</td>\n",
       "    </tr>\n",
       "    <tr>\n",
       "      <th>3</th>\n",
       "      <td>0</td>\n",
       "      <td>group A</td>\n",
       "      <td>1</td>\n",
       "      <td>0</td>\n",
       "      <td>none</td>\n",
       "      <td>47</td>\n",
       "      <td>57</td>\n",
       "      <td>44</td>\n",
       "    </tr>\n",
       "    <tr>\n",
       "      <th>4</th>\n",
       "      <td>0</td>\n",
       "      <td>group C</td>\n",
       "      <td>0</td>\n",
       "      <td>1</td>\n",
       "      <td>none</td>\n",
       "      <td>76</td>\n",
       "      <td>78</td>\n",
       "      <td>75</td>\n",
       "    </tr>\n",
       "  </tbody>\n",
       "</table>\n",
       "</div>"
      ],
      "text/plain": [
       "   gender     race  parent_education  lunch  test_prep  math  reading  writing\n",
       "0       1  group B                 1      1       none    72       72       74\n",
       "1       1  group C                 0      1  completed    69       90       88\n",
       "2       1  group B                 1      1       none    90       95       93\n",
       "3       0  group A                 1      0       none    47       57       44\n",
       "4       0  group C                 0      1       none    76       78       75"
      ]
     },
     "execution_count": 5,
     "metadata": {},
     "output_type": "execute_result"
    }
   ],
   "source": [
    "def lunch_type(lunch_type):\n",
    "    if lunch_type == 'standard':\n",
    "        return 1\n",
    "    else:\n",
    "        return 0\n",
    "    \n",
    "\n",
    "df['lunch'] = df['lunch'].apply(lunch_type)\n",
    "\n",
    "df.head()"
   ]
  },
  {
   "cell_type": "markdown",
   "metadata": {},
   "source": [
    "### Encoding Test Preparation Course Completion\n",
    "Binary again. We assign **1** to students who completed courses and **0** to student who did not."
   ]
  },
  {
   "cell_type": "code",
   "execution_count": 6,
   "metadata": {},
   "outputs": [
    {
     "data": {
      "text/html": [
       "<div>\n",
       "<style scoped>\n",
       "    .dataframe tbody tr th:only-of-type {\n",
       "        vertical-align: middle;\n",
       "    }\n",
       "\n",
       "    .dataframe tbody tr th {\n",
       "        vertical-align: top;\n",
       "    }\n",
       "\n",
       "    .dataframe thead th {\n",
       "        text-align: right;\n",
       "    }\n",
       "</style>\n",
       "<table border=\"1\" class=\"dataframe\">\n",
       "  <thead>\n",
       "    <tr style=\"text-align: right;\">\n",
       "      <th></th>\n",
       "      <th>gender</th>\n",
       "      <th>race</th>\n",
       "      <th>parent_education</th>\n",
       "      <th>lunch</th>\n",
       "      <th>test_prep</th>\n",
       "      <th>math</th>\n",
       "      <th>reading</th>\n",
       "      <th>writing</th>\n",
       "    </tr>\n",
       "  </thead>\n",
       "  <tbody>\n",
       "    <tr>\n",
       "      <th>0</th>\n",
       "      <td>1</td>\n",
       "      <td>group B</td>\n",
       "      <td>1</td>\n",
       "      <td>1</td>\n",
       "      <td>0</td>\n",
       "      <td>72</td>\n",
       "      <td>72</td>\n",
       "      <td>74</td>\n",
       "    </tr>\n",
       "    <tr>\n",
       "      <th>1</th>\n",
       "      <td>1</td>\n",
       "      <td>group C</td>\n",
       "      <td>0</td>\n",
       "      <td>1</td>\n",
       "      <td>1</td>\n",
       "      <td>69</td>\n",
       "      <td>90</td>\n",
       "      <td>88</td>\n",
       "    </tr>\n",
       "    <tr>\n",
       "      <th>2</th>\n",
       "      <td>1</td>\n",
       "      <td>group B</td>\n",
       "      <td>1</td>\n",
       "      <td>1</td>\n",
       "      <td>0</td>\n",
       "      <td>90</td>\n",
       "      <td>95</td>\n",
       "      <td>93</td>\n",
       "    </tr>\n",
       "    <tr>\n",
       "      <th>3</th>\n",
       "      <td>0</td>\n",
       "      <td>group A</td>\n",
       "      <td>1</td>\n",
       "      <td>0</td>\n",
       "      <td>0</td>\n",
       "      <td>47</td>\n",
       "      <td>57</td>\n",
       "      <td>44</td>\n",
       "    </tr>\n",
       "    <tr>\n",
       "      <th>4</th>\n",
       "      <td>0</td>\n",
       "      <td>group C</td>\n",
       "      <td>0</td>\n",
       "      <td>1</td>\n",
       "      <td>0</td>\n",
       "      <td>76</td>\n",
       "      <td>78</td>\n",
       "      <td>75</td>\n",
       "    </tr>\n",
       "  </tbody>\n",
       "</table>\n",
       "</div>"
      ],
      "text/plain": [
       "   gender     race  parent_education  lunch  test_prep  math  reading  writing\n",
       "0       1  group B                 1      1          0    72       72       74\n",
       "1       1  group C                 0      1          1    69       90       88\n",
       "2       1  group B                 1      1          0    90       95       93\n",
       "3       0  group A                 1      0          0    47       57       44\n",
       "4       0  group C                 0      1          0    76       78       75"
      ]
     },
     "execution_count": 6,
     "metadata": {},
     "output_type": "execute_result"
    }
   ],
   "source": [
    "def test_prep(completion):\n",
    "    if completion == 'completed':\n",
    "        return 1\n",
    "    else:\n",
    "        return 0\n",
    "    \n",
    "    \n",
    "df['test_prep'] = df['test_prep'].apply(test_prep)\n",
    "\n",
    "df.head()"
   ]
  },
  {
   "cell_type": "markdown",
   "metadata": {},
   "source": [
    "### Encoding Exam Scores\n",
    "The exam score data is actually integer-valued, ranging 1-100. This means that if we keep the exam score data as it is currently, the task of predicting student performance is a regression problem. However, performing regression on students to predict their *exact* performance on exams doesn't exactly help anyone. What is more helpful is simply trying to predict whether students will pass the exams or not—changing the task from one of regression to one of classification provides better opportunities for outreach to students at risk of not passing the exams, and it is an easier task to work on since we have limited data on the students in the first place.\n",
    "\n",
    "Accordingly, we choose thresholds for passing the exams. Students who score at or above the threshold pass, and students who score below do not. However, choosing thresholds is a small task in itself. We ought to put at least a little thought into the thresholds rather than just picking a random value—testing is difficult for students, and they deserve the fairest judgement possible.\n",
    "\n",
    "Let's take a look at the various kernel density estimations of scores as well as as some statistics for measuring central tendency."
   ]
  },
  {
   "cell_type": "code",
   "execution_count": 7,
   "metadata": {},
   "outputs": [
    {
     "name": "stdout",
     "output_type": "stream",
     "text": [
      "Math stats — Mean: 66.1, Median: 66.0, Mode: 65.0 \n",
      "\n",
      "Reading stats — Mean: 69.2, Median: 70.0, Mode: 72.0 \n",
      "\n",
      "Writing stats — Mean: 68.1, Median: 69.0, Mode: 74.0 \n",
      "\n"
     ]
    },
    {
     "data": {
      "text/plain": [
       "<AxesSubplot:ylabel='Density'>"
      ]
     },
     "execution_count": 7,
     "metadata": {},
     "output_type": "execute_result"
    },
    {
     "data": {
      "image/png": "[encoded data removed]",
      "text/plain": [
       "<Figure size 864x360 with 1 Axes>"
      ]
     },
     "metadata": {},
     "output_type": "display_data"
    }
   ],
   "source": [
    "plt.figure(figsize=(12,5))\n",
    "print('Math stats — Mean: %.1f, Median: %.1f, Mode: %.1f' % \n",
    "      (df['math'].mean(), df['math'].median(), df['math'].mode()), '\\n')\n",
    "\n",
    "print('Reading stats — Mean: %.1f, Median: %.1f, Mode: %.1f' % \n",
    "      (df['reading'].mean(), df['reading'].median(), df['reading'].mode()), '\\n')\n",
    "\n",
    "print('Writing stats — Mean: %.1f, Median: %.1f, Mode: %.1f' % \n",
    "      (df['writing'].mean(), df['writing'].median(), df['writing'].mode()), '\\n')\n",
    "\n",
    "sns.kdeplot(data=df[['math', 'reading', 'writing']], fill=True)"
   ]
  },
  {
   "cell_type": "markdown",
   "metadata": {},
   "source": [
    "Thes KDEs are pretty symmetric, so setting the thresholds equal to the floor of the means should be fine."
   ]
  },
  {
   "cell_type": "code",
   "execution_count": 8,
   "metadata": {},
   "outputs": [
    {
     "data": {
      "text/html": [
       "<div>\n",
       "<style scoped>\n",
       "    .dataframe tbody tr th:only-of-type {\n",
       "        vertical-align: middle;\n",
       "    }\n",
       "\n",
       "    .dataframe tbody tr th {\n",
       "        vertical-align: top;\n",
       "    }\n",
       "\n",
       "    .dataframe thead th {\n",
       "        text-align: right;\n",
       "    }\n",
       "</style>\n",
       "<table border=\"1\" class=\"dataframe\">\n",
       "  <thead>\n",
       "    <tr style=\"text-align: right;\">\n",
       "      <th></th>\n",
       "      <th>gender</th>\n",
       "      <th>race</th>\n",
       "      <th>parent_education</th>\n",
       "      <th>lunch</th>\n",
       "      <th>test_prep</th>\n",
       "      <th>math</th>\n",
       "      <th>reading</th>\n",
       "      <th>writing</th>\n",
       "    </tr>\n",
       "  </thead>\n",
       "  <tbody>\n",
       "    <tr>\n",
       "      <th>0</th>\n",
       "      <td>1</td>\n",
       "      <td>group B</td>\n",
       "      <td>1</td>\n",
       "      <td>1</td>\n",
       "      <td>0</td>\n",
       "      <td>1</td>\n",
       "      <td>1</td>\n",
       "      <td>1</td>\n",
       "    </tr>\n",
       "    <tr>\n",
       "      <th>1</th>\n",
       "      <td>1</td>\n",
       "      <td>group C</td>\n",
       "      <td>0</td>\n",
       "      <td>1</td>\n",
       "      <td>1</td>\n",
       "      <td>1</td>\n",
       "      <td>1</td>\n",
       "      <td>1</td>\n",
       "    </tr>\n",
       "    <tr>\n",
       "      <th>2</th>\n",
       "      <td>1</td>\n",
       "      <td>group B</td>\n",
       "      <td>1</td>\n",
       "      <td>1</td>\n",
       "      <td>0</td>\n",
       "      <td>1</td>\n",
       "      <td>1</td>\n",
       "      <td>1</td>\n",
       "    </tr>\n",
       "    <tr>\n",
       "      <th>3</th>\n",
       "      <td>0</td>\n",
       "      <td>group A</td>\n",
       "      <td>1</td>\n",
       "      <td>0</td>\n",
       "      <td>0</td>\n",
       "      <td>0</td>\n",
       "      <td>0</td>\n",
       "      <td>0</td>\n",
       "    </tr>\n",
       "    <tr>\n",
       "      <th>4</th>\n",
       "      <td>0</td>\n",
       "      <td>group C</td>\n",
       "      <td>0</td>\n",
       "      <td>1</td>\n",
       "      <td>0</td>\n",
       "      <td>1</td>\n",
       "      <td>1</td>\n",
       "      <td>1</td>\n",
       "    </tr>\n",
       "  </tbody>\n",
       "</table>\n",
       "</div>"
      ],
      "text/plain": [
       "   gender     race  parent_education  lunch  test_prep  math  reading  writing\n",
       "0       1  group B                 1      1          0     1        1        1\n",
       "1       1  group C                 0      1          1     1        1        1\n",
       "2       1  group B                 1      1          0     1        1        1\n",
       "3       0  group A                 1      0          0     0        0        0\n",
       "4       0  group C                 0      1          0     1        1        1"
      ]
     },
     "execution_count": 8,
     "metadata": {},
     "output_type": "execute_result"
    }
   ],
   "source": [
    "def math_pass(score):\n",
    "    if score >= 66:\n",
    "        return 1\n",
    "    else:\n",
    "        return 0\n",
    "    \n",
    "\n",
    "def reading_pass(score):\n",
    "    if score >= 69:\n",
    "        return 1\n",
    "    else:\n",
    "        return 0\n",
    "    \n",
    "\n",
    "def writing_pass(score):\n",
    "    if score >= 68:\n",
    "        return 1\n",
    "    else:\n",
    "        return 0\n",
    "        \n",
    "\n",
    "df['math'] = df['math'].apply(math_pass)\n",
    "df['reading'] = df['reading'].apply(reading_pass)\n",
    "df['writing'] = df['writing'].apply(writing_pass)\n",
    "\n",
    "\n",
    "df.head()"
   ]
  },
  {
   "cell_type": "markdown",
   "metadata": {},
   "source": [
    "### Encoding Race\n",
    "The race data for the students cannot be binarized by setting some sort of threshold like before. Instead we will just one-hot encode this data.\n",
    "\n",
    "Simultaneously we're going to start prepping the data for modeling. This means we'll end up with a dataset **X**\n",
    "consisting of all encoded features of the students, and some target vectors **y_math**, **y_reading**,and **y_writing** each consisting of a single column of their respective exam data."
   ]
  },
  {
   "cell_type": "code",
   "execution_count": 9,
   "metadata": {
    "scrolled": false
   },
   "outputs": [
    {
     "data": {
      "text/html": [
       "<div>\n",
       "<style scoped>\n",
       "    .dataframe tbody tr th:only-of-type {\n",
       "        vertical-align: middle;\n",
       "    }\n",
       "\n",
       "    .dataframe tbody tr th {\n",
       "        vertical-align: top;\n",
       "    }\n",
       "\n",
       "    .dataframe thead th {\n",
       "        text-align: right;\n",
       "    }\n",
       "</style>\n",
       "<table border=\"1\" class=\"dataframe\">\n",
       "  <thead>\n",
       "    <tr style=\"text-align: right;\">\n",
       "      <th></th>\n",
       "      <th>gender</th>\n",
       "      <th>parent_education</th>\n",
       "      <th>lunch</th>\n",
       "      <th>test_prep</th>\n",
       "      <th>race_group A</th>\n",
       "      <th>race_group B</th>\n",
       "      <th>race_group C</th>\n",
       "      <th>race_group D</th>\n",
       "      <th>race_group E</th>\n",
       "    </tr>\n",
       "  </thead>\n",
       "  <tbody>\n",
       "    <tr>\n",
       "      <th>0</th>\n",
       "      <td>1</td>\n",
       "      <td>1</td>\n",
       "      <td>1</td>\n",
       "      <td>0</td>\n",
       "      <td>0</td>\n",
       "      <td>1</td>\n",
       "      <td>0</td>\n",
       "      <td>0</td>\n",
       "      <td>0</td>\n",
       "    </tr>\n",
       "    <tr>\n",
       "      <th>1</th>\n",
       "      <td>1</td>\n",
       "      <td>0</td>\n",
       "      <td>1</td>\n",
       "      <td>1</td>\n",
       "      <td>0</td>\n",
       "      <td>0</td>\n",
       "      <td>1</td>\n",
       "      <td>0</td>\n",
       "      <td>0</td>\n",
       "    </tr>\n",
       "    <tr>\n",
       "      <th>2</th>\n",
       "      <td>1</td>\n",
       "      <td>1</td>\n",
       "      <td>1</td>\n",
       "      <td>0</td>\n",
       "      <td>0</td>\n",
       "      <td>1</td>\n",
       "      <td>0</td>\n",
       "      <td>0</td>\n",
       "      <td>0</td>\n",
       "    </tr>\n",
       "    <tr>\n",
       "      <th>3</th>\n",
       "      <td>0</td>\n",
       "      <td>1</td>\n",
       "      <td>0</td>\n",
       "      <td>0</td>\n",
       "      <td>1</td>\n",
       "      <td>0</td>\n",
       "      <td>0</td>\n",
       "      <td>0</td>\n",
       "      <td>0</td>\n",
       "    </tr>\n",
       "    <tr>\n",
       "      <th>4</th>\n",
       "      <td>0</td>\n",
       "      <td>0</td>\n",
       "      <td>1</td>\n",
       "      <td>0</td>\n",
       "      <td>0</td>\n",
       "      <td>0</td>\n",
       "      <td>1</td>\n",
       "      <td>0</td>\n",
       "      <td>0</td>\n",
       "    </tr>\n",
       "  </tbody>\n",
       "</table>\n",
       "</div>"
      ],
      "text/plain": [
       "   gender  parent_education  lunch  test_prep  race_group A  race_group B  \\\n",
       "0       1                 1      1          0             0             1   \n",
       "1       1                 0      1          1             0             0   \n",
       "2       1                 1      1          0             0             1   \n",
       "3       0                 1      0          0             1             0   \n",
       "4       0                 0      1          0             0             0   \n",
       "\n",
       "   race_group C  race_group D  race_group E  \n",
       "0             0             0             0  \n",
       "1             1             0             0  \n",
       "2             0             0             0  \n",
       "3             0             0             0  \n",
       "4             1             0             0  "
      ]
     },
     "execution_count": 9,
     "metadata": {},
     "output_type": "execute_result"
    }
   ],
   "source": [
    "features = ['gender', 'race', 'parent_education', 'lunch', 'test_prep']\n",
    "X = pd.get_dummies(df[features], columns=['race'])\n",
    "y_math = df['math']\n",
    "y_reading = df['reading']\n",
    "y_writing = df['writing']\n",
    "                      \n",
    "X.head()"
   ]
  },
  {
   "cell_type": "markdown",
   "metadata": {},
   "source": [
    "## Feature Selection\n",
    "Now that the data is in a usable condition, our next step is to examine which variables are worth using in our model. To this end, note that both the variables and target outputs are categorical variables, hence we will use a chi-squared test to determine which variables to use.\n",
    "\n",
    "There is a class called SelectKBest in Scikit-learn that automatically selects the K features which score the highest on the chi-squared test, but we'll do it manually here since it's not that difficult."
   ]
  },
  {
   "cell_type": "markdown",
   "metadata": {},
   "source": [
    "### Chi-squared Testing"
   ]
  },
  {
   "cell_type": "markdown",
   "metadata": {},
   "source": [
    "#### Math Scores Testing"
   ]
  },
  {
   "cell_type": "code",
   "execution_count": 10,
   "metadata": {},
   "outputs": [
    {
     "name": "stdout",
     "output_type": "stream",
     "text": [
      "gender score: 9.366\n",
      "test_prep score: 12.866\n",
      "lunch score: 26.665\n",
      "race_group E score: 26.819\n"
     ]
    }
   ],
   "source": [
    "def top_features(k, X, y):\n",
    "    # Compute chi-squared values.\n",
    "    chi2_scores = chi2(X, y)[0]\n",
    "    # Get the indices of the top four scores.\n",
    "    cols = np.argpartition(chi2_scores, kth=-k)[-k:]\n",
    "    # Ordering by chi-squared score.\n",
    "    cols = cols[np.argsort(chi2_scores[cols])]\n",
    "    \n",
    "    return (cols, chi2_scores)\n",
    "\n",
    "    \n",
    "math_cols, chi2_scores = top_features(4, X=X, y=y_math)\n",
    "for index in math_cols:\n",
    "    print(f'{X.columns[index]} score: {chi2_scores[index]:.3f}')"
   ]
  },
  {
   "cell_type": "markdown",
   "metadata": {},
   "source": [
    "#### Reading Scores Testing"
   ]
  },
  {
   "cell_type": "code",
   "execution_count": 11,
   "metadata": {},
   "outputs": [
    {
     "name": "stdout",
     "output_type": "stream",
     "text": [
      "race_group A score: 8.827\n",
      "lunch score: 14.597\n",
      "gender score: 22.169\n",
      "test_prep score: 27.994\n"
     ]
    }
   ],
   "source": [
    "reading_cols, chi2_scores = top_features(4, X=X, y=y_reading)\n",
    "for index in reading_cols:\n",
    "    print(f'{X.columns[index]} score: {chi2_scores[index]:.3f}')"
   ]
  },
  {
   "cell_type": "markdown",
   "metadata": {},
   "source": [
    "#### Writing Scores Testing"
   ]
  },
  {
   "cell_type": "code",
   "execution_count": 12,
   "metadata": {},
   "outputs": [
    {
     "name": "stdout",
     "output_type": "stream",
     "text": [
      "race_group A score: 12.070\n",
      "lunch score: 17.395\n",
      "gender score: 32.592\n",
      "test_prep score: 48.449\n"
     ]
    }
   ],
   "source": [
    "writing_cols, chi2_scores = top_features(4, X=X, y=y_writing)\n",
    "for index in writing_cols:\n",
    "    print(f'{X.columns[index]} score: {chi2_scores[index]:.3f}')"
   ]
  },
  {
   "cell_type": "markdown",
   "metadata": {},
   "source": [
    "### Visualizations\n",
    "Now to dig a little deeper with some visualizations, so that after modeling it's clear how the selected features factor into the predictions. For brevity, only the top two features will be visualized, but the remaining features can be visualized in similar ways."
   ]
  },
  {
   "cell_type": "markdown",
   "metadata": {},
   "source": [
    "#### Race Visualization\n",
    "For the race visualization, we'll use a version of a box plot to compare each group. Note that the data for this plot is coming df_copy, the dataset *prior* to encoding the exam scores—this allows for distributions to be visualized in a meaningful way."
   ]
  },
  {
   "cell_type": "code",
   "execution_count": 13,
   "metadata": {},
   "outputs": [
    {
     "data": {
      "text/plain": [
       "<AxesSubplot:xlabel='race', ylabel='math'>"
      ]
     },
     "execution_count": 13,
     "metadata": {},
     "output_type": "execute_result"
    },
    {
     "data": {
      "image/png": "[encoded data removed]",
      "text/plain": [
       "<Figure size 720x504 with 1 Axes>"
      ]
     },
     "metadata": {},
     "output_type": "display_data"
    }
   ],
   "source": [
    "plt.figure(figsize=(10,7))\n",
    "sns.boxenplot(data=df_copy, x='race', y='math', )"
   ]
  },
  {
   "cell_type": "markdown",
   "metadata": {},
   "source": [
    "What we deduce immediately from this graphic is that every quantile of the distribution for group E scored higher than the corresponding quantiles of the other groups. Thus it makes sense we would observe more exam passes in group E, leading to the high score on the chi-squared test."
   ]
  },
  {
   "cell_type": "markdown",
   "metadata": {},
   "source": [
    "#### Lunch Type Visualization\n",
    "To get an idea of why lunch type scored quite high on the chi-squared test we'll take a look at two KDEs side by side."
   ]
  },
  {
   "cell_type": "code",
   "execution_count": 14,
   "metadata": {
    "scrolled": false
   },
   "outputs": [
    {
     "data": {
      "text/plain": [
       "<AxesSubplot:ylabel='math'>"
      ]
     },
     "execution_count": 14,
     "metadata": {},
     "output_type": "execute_result"
    },
    {
     "data": {
      "image/png": "[encoded data removed]",
      "text/plain": [
       "<Figure size 360x504 with 1 Axes>"
      ]
     },
     "metadata": {},
     "output_type": "display_data"
    }
   ],
   "source": [
    "plt.figure(figsize=(5,7))\n",
    "sns.violinplot(data=df_copy, y='math', x=[\"\"]*len(df_copy), hue='lunch', split=True, inner='quartile')"
   ]
  },
  {
   "cell_type": "markdown",
   "metadata": {},
   "source": [
    "Again, it's clear that the shape of the distribution of scores for students with standard lunch is essentially the same as that for the students with a free/reduced lunch, just shifted to the right. In short, students with standard lunches tended to score higher on the math exams."
   ]
  },
  {
   "cell_type": "markdown",
   "metadata": {},
   "source": [
    "#### Reading Visualization\n",
    "Since the features that scored the highest on the chi-squared test for reading were binary, we'll just visualize both at the same time, and use the same KDE comparison method as above."
   ]
  },
  {
   "cell_type": "code",
   "execution_count": 15,
   "metadata": {},
   "outputs": [
    {
     "data": {
      "text/plain": [
       "<AxesSubplot:xlabel='gender', ylabel='reading'>"
      ]
     },
     "execution_count": 15,
     "metadata": {},
     "output_type": "execute_result"
    },
    {
     "data": {
      "image/png": "[encoded data removed]",
      "text/plain": [
       "<Figure size 720x504 with 1 Axes>"
      ]
     },
     "metadata": {},
     "output_type": "display_data"
    }
   ],
   "source": [
    "plt.figure(figsize=(10,7))\n",
    "sns.violinplot(data=df_copy, x='gender', y='reading', hue='test_prep', split=True, inner='quartile')"
   ]
  },
  {
   "cell_type": "markdown",
   "metadata": {},
   "source": [
    "There are two things to notice here. First note that students who completed a test preparation course had a tendency for higher exam scores, regardless of gender. Second, if we examine the quartile lines closely we see that females tended to score higher than males, regardless of test preparation."
   ]
  },
  {
   "cell_type": "markdown",
   "metadata": {},
   "source": [
    "#### Writing Visualization\n",
    "The results of the chi-squared test for writing were the same as those for reading, so the same visualization will be used."
   ]
  },
  {
   "cell_type": "code",
   "execution_count": 16,
   "metadata": {},
   "outputs": [
    {
     "data": {
      "text/plain": [
       "<AxesSubplot:xlabel='gender', ylabel='writing'>"
      ]
     },
     "execution_count": 16,
     "metadata": {},
     "output_type": "execute_result"
    },
    {
     "data": {
      "image/png": "[encoded data removed]",
      "text/plain": [
       "<Figure size 720x504 with 1 Axes>"
      ]
     },
     "metadata": {},
     "output_type": "display_data"
    }
   ],
   "source": [
    "plt.figure(figsize=(10,7))\n",
    "sns.violinplot(data=df_copy, x='gender', y='writing', hue='test_prep', split=True, inner='quartile')"
   ]
  },
  {
   "cell_type": "markdown",
   "metadata": {},
   "source": [
    "The observations for this visualization are the same as the previous observations for reading."
   ]
  },
  {
   "cell_type": "markdown",
   "metadata": {},
   "source": [
    "## Modeling\n",
    "Great! After visualizing some of the more influential variables, according to the chi-squared tests, it's finally time to pick a model and make some predictions.\n",
    "\n",
    "I'm choosing to use a random forest classifier, but other tree methods should work as well."
   ]
  },
  {
   "cell_type": "code",
   "execution_count": 17,
   "metadata": {},
   "outputs": [
    {
     "name": "stdout",
     "output_type": "stream",
     "text": [
      "================ Math Predictions =================\n",
      "Best parameters: {'max_depth': 5, 'n_estimators': 100} \n",
      "\n",
      "Confusion Matrix:  \n",
      " [[79 41]\n",
      " [45 85]] \n",
      "\n",
      "Classification Report:  \n",
      "               precision    recall  f1-score   support\n",
      "\n",
      "           0       0.64      0.66      0.65       120\n",
      "           1       0.67      0.65      0.66       130\n",
      "\n",
      "    accuracy                           0.66       250\n",
      "   macro avg       0.66      0.66      0.66       250\n",
      "weighted avg       0.66      0.66      0.66       250\n",
      " \n",
      "\n",
      "=============== Reading Predictions ================\n",
      "Best parameters: {'max_depth': 5, 'n_estimators': 100} \n",
      "\n",
      "Confusion Matrix:  \n",
      " [[81 28]\n",
      " [54 87]] \n",
      "\n",
      "Classification Report:  \n",
      "               precision    recall  f1-score   support\n",
      "\n",
      "           0       0.60      0.74      0.66       109\n",
      "           1       0.76      0.62      0.68       141\n",
      "\n",
      "    accuracy                           0.67       250\n",
      "   macro avg       0.68      0.68      0.67       250\n",
      "weighted avg       0.69      0.67      0.67       250\n",
      " \n",
      "\n",
      "=============== Writing Predictions ================\n",
      "Best parameters: {'max_depth': 10, 'n_estimators': 50} \n",
      "\n",
      "Confusion Matrix:  \n",
      " [[81 32]\n",
      " [44 93]] \n",
      "\n",
      "Classification Report:  \n",
      "               precision    recall  f1-score   support\n",
      "\n",
      "           0       0.65      0.72      0.68       113\n",
      "           1       0.74      0.68      0.71       137\n",
      "\n",
      "    accuracy                           0.70       250\n",
      "   macro avg       0.70      0.70      0.70       250\n",
      "weighted avg       0.70      0.70      0.70       250\n",
      " \n",
      "\n"
     ]
    }
   ],
   "source": [
    "def predict_student_performance(data, target, features):\n",
    "    # Use only selected features from chi-squared testing.\n",
    "    X_reduced = data.iloc[:,features]\n",
    "\n",
    "    X_train, X_test, y_train, y_test = train_test_split(X_reduced, target)\n",
    "    \n",
    "    param_grid = {\n",
    "        'n_estimators': [50, 100, 150],\n",
    "        'max_depth': [5, 10, 15]\n",
    "    }\n",
    "\n",
    "    rf_grid = GridSearchCV(RandomForestClassifier(), param_grid=param_grid, n_jobs=-1)\n",
    "    rf_grid.fit(X_train, y_train)\n",
    "\n",
    "    y_pred = rf_grid.predict(X_test)\n",
    "    \n",
    "    print('Best parameters:', rf_grid.best_params_, '\\n')\n",
    "    print('Confusion Matrix: ', '\\n', confusion_matrix(y_test, y_pred), '\\n')\n",
    "    print('Classification Report: ', '\\n', classification_report(y_test, y_pred, zero_division=0), '\\n')\n",
    "    \n",
    "\n",
    "print('================ Math Predictions =================')\n",
    "predict_student_performance(data=X, target=y_math, features=math_cols)\n",
    "\n",
    "print('=============== Reading Predictions ================')\n",
    "predict_student_performance(data=X, target=y_reading, features=reading_cols)\n",
    "\n",
    "print('=============== Writing Predictions ================')\n",
    "predict_student_performance(data=X, target=y_writing, features=writing_cols)"
   ]
  },
  {
   "cell_type": "markdown",
   "metadata": {},
   "source": [
    "## Conclusions\n",
    "So, it looks like the predictions for scores on the writing exam were the most successful, followed by reading and math. I suppose this makes some degree of sense, given that the chi-squared test produced the highest values when writing was the target output.\n",
    "\n",
    "In this notebook the most striking pieces of information actually came from feature selection, with modeling coming almost as an afterthought. In particular, it's quite interesting to see that the most influential features for math exams scores were lunch type and belonging to race group E, while the most influential for reading and writing were test preparation and gender. This information alone is sufficient for outreach to students at risk of not passing some exam(s), depending on the context of an analysis like this—extending free tutoring services to students from lower-income families, \"marketing\" subjects like reading and writing to male students, etc.\n",
    "\n",
    "As for tuning the modeling process, there are a few possibilites. Namely, changing things like the thresholds for passing an exam or for parental education levels. Moreover, gradient boosting is an alternative, viable approach to a random forest, or even naive bayes if data is scarce."
   ]
  }
 ],
 "metadata": {
  "kernelspec": {
   "display_name": "Python 3",
   "language": "python",
   "name": "python3"
  },
  "language_info": {
   "codemirror_mode": {
    "name": "ipython",
    "version": 3
   },
   "file_extension": ".py",
   "mimetype": "text/x-python",
   "name": "python",
   "nbconvert_exporter": "python",
   "pygments_lexer": "ipython3",
   "version": "3.8.8"
  }
 },
 "nbformat": 4,
 "nbformat_minor": 4
}
